{
 "cells": [
  {
   "cell_type": "code",
   "execution_count": 54,
   "id": "42eee046-b6aa-4f12-8144-e57ea3133eb7",
   "metadata": {},
   "outputs": [],
   "source": [
    "import numpy as np\n",
    "import lightgbm as lgb\n",
    "import pandas as pd\n",
    "import pickle\n",
    "import joblib\n",
    "import os"
   ]
  },
  {
   "cell_type": "code",
   "execution_count": 55,
   "id": "7741849e",
   "metadata": {},
   "outputs": [],
   "source": [
    "# Caricare train_events\n",
    "with open('train_events.pkl', 'rb') as f:\n",
    "    train_events = pickle.load(f)\n",
    "\n",
    "# Caricare y_train\n",
    "with open('y_train.pkl', 'rb') as f:\n",
    "    y_train = pickle.load(f)\n",
    "\n",
    "# Caricare test_events\n",
    "with open('test_events.pkl', 'rb') as f:\n",
    "    test_events = pickle.load(f)\n",
    "\n",
    "# Caricare y_test\n",
    "with open('y_test.pkl', 'rb') as f:\n",
    "    y_test = pickle.load(f)\n",
    "\n",
    "train_events=train_events.drop(columns=8)\n",
    "test_events=test_events.drop(columns=8)"
   ]
  },
  {
   "cell_type": "code",
   "execution_count": 56,
   "id": "3122ef76",
   "metadata": {},
   "outputs": [
    {
     "name": "stdout",
     "output_type": "stream",
     "text": [
      "Accuracy on testing data: 0.915454884414616\n"
     ]
    }
   ],
   "source": [
    "num_leaves=30\n",
    "max_depth=-1\n",
    "learning_rate=0.05\n",
    "n_estimators=30000\n",
    "gbm = lgb.LGBMClassifier(boosting_type='gbdt', num_leaves=num_leaves, max_depth=max_depth, learning_rate=learning_rate, n_estimators=n_estimators, objective='binary')\n",
    "gbm.fit(train_events,y_train)\n",
    "print(\"Accuracy on testing data:\", gbm.score(test_events, y_test))"
   ]
  },
  {
   "cell_type": "code",
   "execution_count": 57,
   "id": "28da3213",
   "metadata": {},
   "outputs": [],
   "source": [
    "k=gbm.predict(test_events, \"response\")\n",
    "\n",
    "test_index_list=y_test.index.tolist()"
   ]
  },
  {
   "cell_type": "code",
   "execution_count": 58,
   "id": "3e65847e",
   "metadata": {},
   "outputs": [],
   "source": [
    "predictions=pd.DataFrame(k,columns=['predictions'])"
   ]
  },
  {
   "cell_type": "code",
   "execution_count": 59,
   "id": "9b83d9e7",
   "metadata": {},
   "outputs": [],
   "source": [
    "predictions.index = y_test.index\n",
    "predicted = pd.concat([predictions, y_test], axis=1)"
   ]
  },
  {
   "cell_type": "code",
   "execution_count": 60,
   "id": "193a92b7",
   "metadata": {},
   "outputs": [],
   "source": [
    "p_predicted=predicted.loc[predicted[41]==0]\n",
    "e_predicted=predicted.loc[predicted[41]==1]"
   ]
  },
  {
   "cell_type": "code",
   "execution_count": 61,
   "id": "a4f4b88f",
   "metadata": {},
   "outputs": [],
   "source": [
    "with open('p_predicted.pkl', 'wb') as f:\n",
    "    pickle.dump(p_predicted, f)\n",
    "\n",
    "with open('e_predicted.pkl', 'wb') as f:\n",
    "    pickle.dump(e_predicted, f)"
   ]
  },
  {
   "cell_type": "code",
   "execution_count": 62,
   "id": "a4d34bdb",
   "metadata": {},
   "outputs": [
    {
     "data": {
      "text/plain": [
       "['BDT_dataset_1.txt']"
      ]
     },
     "execution_count": 62,
     "metadata": {},
     "output_type": "execute_result"
    }
   ],
   "source": [
    "joblib.dump(gbm,'BDT_dataset_1.txt')"
   ]
  },
  {
   "cell_type": "code",
   "execution_count": 63,
   "id": "f3041192",
   "metadata": {},
   "outputs": [],
   "source": [
    "# Salva i valori in un file di testo\n",
    "with open('parameters.txt', 'a') as f:\n",
    "    f.write(f'num. leaves={num_leaves}'+'\\n'+f'n_estimators={n_estimators}'+'\\n')"
   ]
  }
 ],
 "metadata": {
  "kernelspec": {
   "display_name": "Python 3 (ipykernel)",
   "language": "python",
   "name": "python3"
  },
  "language_info": {
   "codemirror_mode": {
    "name": "ipython",
    "version": 3
   },
   "file_extension": ".py",
   "mimetype": "text/x-python",
   "name": "python",
   "nbconvert_exporter": "python",
   "pygments_lexer": "ipython3",
   "version": "3.8.10"
  }
 },
 "nbformat": 4,
 "nbformat_minor": 5
}
