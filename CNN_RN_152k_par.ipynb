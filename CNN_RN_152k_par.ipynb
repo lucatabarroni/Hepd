{
 "cells": [
  {
   "cell_type": "code",
   "execution_count": null,
   "id": "0a46d4b4-647e-4f68-a8c9-149d198e3d9e",
   "metadata": {},
   "outputs": [],
   "source": [
    "x=convolutional_block(x,hidden_layers=3,kernel=16,size=2,input_dimension=16,strides=1,skip_connection=True)\n",
    "x=convolutional_block(x,hidden_layers=3,kernel=16,size=2,input_dimension=16,strides=1,skip_connection=True)\n",
    "x=convolutional_block(x,hidden_layers=3,kernel=16,size=2,input_dimension=16,strides=1,skip_connection=True)\n",
    "x=convolutional_block(x,hidden_layers=3,kernel=32,size=2,input_dimension=16,strides=1,skip_connection=True)\n",
    "x=convolutional_block(x,hidden_layers=3,kernel=32,size=2,input_dimension=32,strides=1,skip_connection=True)\n",
    "x=convolutional_block(x,hidden_layers=3,kernel=32,size=2,input_dimension=32,strides=1,skip_connection=True)\n",
    "x=convolutional_block(x,hidden_layers=3,kernel=32,size=2,input_dimension=32,strides=1,skip_connection=True)\n",
    "x=convolutional_block(x,hidden_layers=3,kernel=64,size=2,input_dimension=32,strides=1,skip_connection=True)\n",
    "x=convolutional_block(x,hidden_layers=3,kernel=64,size=2,input_dimension=64,strides=1,skip_connection=True)\n",
    "x=convolutional_block(x,hidden_layers=3,kernel=64,size=2,input_dimension=64,strides=1,skip_connection=True)\n",
    "x=convolutional_block(x,hidden_layers=3,kernel=64,size=2,input_dimension=64,strides=1,skip_connection=True)\n",
    "x=convolutional_block(x,hidden_layers=3,kernel=64,size=2,input_dimension=64,strides=1,skip_connection=True)\n",
    "x=Flatten()(x)"
   ]
  }
 ],
 "metadata": {
  "kernelspec": {
   "display_name": "Python 3 (ipykernel)",
   "language": "python",
   "name": "python3"
  },
  "language_info": {
   "codemirror_mode": {
    "name": "ipython",
    "version": 3
   },
   "file_extension": ".py",
   "mimetype": "text/x-python",
   "name": "python",
   "nbconvert_exporter": "python",
   "pygments_lexer": "ipython3",
   "version": "3.11.6"
  }
 },
 "nbformat": 4,
 "nbformat_minor": 5
}
