{
 "cells": [
  {
   "cell_type": "markdown",
   "id": "f30c4c18-d4cb-4e38-838d-b7df0a224b7f",
   "metadata": {},
   "source": [
    "Creiamo i path e i summary delle bdt da creare. Le vere bdt veraano formalmente create al momento del train in base ai valori dei parameteri che salviamo nei file _summary.txt \n",
    "Studiamo tre parametri:\n",
    "- profondità massima dei tree\n",
    "- numero di foglie in ciascun tree\n",
    "- numero di tree nell'ensemble"
   ]
  },
  {
   "cell_type": "code",
   "execution_count": 1,
   "id": "981969c7-20ad-4488-a816-d015d600438c",
   "metadata": {},
   "outputs": [],
   "source": [
    "import os"
   ]
  },
  {
   "cell_type": "code",
   "execution_count": 2,
   "id": "e16ce081-4438-4f68-b2eb-6e97d49bcb44",
   "metadata": {},
   "outputs": [],
   "source": [
    "#### creiamo le liste con i possibili valori dei tre parametri\n",
    "list_max_depths = [-1, 30, 300, 3000]\n",
    "list_num_leaves = [30, 300, 3000]\n",
    "list_n_estimators = [30, 300, 3000]"
   ]
  },
  {
   "cell_type": "code",
   "execution_count": 3,
   "id": "c4083f1e-8039-4f0d-b868-02d24e7deea7",
   "metadata": {},
   "outputs": [],
   "source": [
    "#### scgliamo di non raggruppare i modelli, verranno tutti salvati nella cartella bdt.\n",
    "#### non abbiamo una caratteristica come l'architettura delle fcNN su cui basare un raggruppamento\n",
    "#### il nome della bdt sarà n_esitmarors_N1_max_depth_N2_n_leaves_N3\n",
    "for max_depth in list_max_depths:\n",
    "    for num_leaves in list_num_leaves:\n",
    "        for n_estimators in list_n_estimators:\n",
    "            os.makedirs('/home/private/Hepd/Dataset_4/bdt/n_estimators_'+str(n_estimators)+'_max_depth_'+str(max_depth)+'_n_leaves_'+\n",
    "                      str(num_leaves), exist_ok=True)\n",
    "            with open('/home/private/Hepd/Dataset_4/bdt/n_estimators_'+str(n_estimators)+'_max_depth_'+str(max_depth)+'_n_leaves_'+\n",
    "                      str(num_leaves)+'/n_estimators_'+str(n_estimators)+'_max_depth_'+str(max_depth)+'_n_leaves_'+\n",
    "                      str(num_leaves)+'_summary.txt','w') as f:\n",
    "                f.write(f'N. estimators : {n_estimators}\\n')\n",
    "                f.write(f'Max depth : {max_depth}\\n')\n",
    "                f.write(f'N. leaves : {num_leaves}\\n')"
   ]
  },
  {
   "cell_type": "code",
   "execution_count": null,
   "id": "ed9a26ea-33d5-4142-855c-1cff01f226b8",
   "metadata": {},
   "outputs": [],
   "source": []
  }
 ],
 "metadata": {
  "kernelspec": {
   "display_name": "Lightgbm",
   "language": "python",
   "name": "myenv"
  },
  "language_info": {
   "codemirror_mode": {
    "name": "ipython",
    "version": 3
   },
   "file_extension": ".py",
   "mimetype": "text/x-python",
   "name": "python",
   "nbconvert_exporter": "python",
   "pygments_lexer": "ipython3",
   "version": "3.11.9"
  }
 },
 "nbformat": 4,
 "nbformat_minor": 5
}
