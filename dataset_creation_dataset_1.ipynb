{
 "cells": [
  {
   "cell_type": "code",
   "execution_count": 17,
   "metadata": {},
   "outputs": [],
   "source": [
    "import numpy as np\n",
    "import uproot as up\n",
    "import pandas as pd\n",
    "from sklearn.model_selection import train_test_split\n",
    "\n",
    "import pickle"
   ]
  },
  {
   "cell_type": "code",
   "execution_count": 18,
   "metadata": {},
   "outputs": [],
   "source": [
    "e_file=up.open('sample_good_ele_25MeV_160MeV_Strauss.root')\n",
    "p_file=up.open('sample_int_p_10MeV_10GeV_HelMod.root')"
   ]
  },
  {
   "cell_type": "code",
   "execution_count": 19,
   "metadata": {},
   "outputs": [],
   "source": [
    "e_tree=e_file['good_ele_tree;1']\n",
    "p_tree=p_file['int_proton_tree;1']"
   ]
  },
  {
   "cell_type": "code",
   "execution_count": 20,
   "metadata": {},
   "outputs": [],
   "source": [
    "e_adc=e_tree.arrays('planeSigHG_sel[16][2]')\n",
    "e_lyso=e_tree.arrays('lysoCrystalSig_sel[9]')"
   ]
  },
  {
   "cell_type": "code",
   "execution_count": 21,
   "metadata": {},
   "outputs": [],
   "source": [
    "e_adc_array=list(map(np.concatenate,e_adc['planeSigHG_sel[16][2]']))"
   ]
  },
  {
   "cell_type": "code",
   "execution_count": 22,
   "metadata": {},
   "outputs": [],
   "source": [
    "e_array=np.hstack((e_adc_array,e_lyso['lysoCrystalSig_sel[9]'],np.ones([len(e_adc_array),1])))"
   ]
  },
  {
   "cell_type": "code",
   "execution_count": 23,
   "metadata": {},
   "outputs": [],
   "source": [
    "e_df=pd.DataFrame(e_array)"
   ]
  },
  {
   "cell_type": "code",
   "execution_count": 24,
   "metadata": {},
   "outputs": [],
   "source": [
    "p_adc=p_tree.arrays('planeSigHG_sel[16][2]')\n",
    "p_lyso=p_tree.arrays('lysoCrystalSig_sel[9]')"
   ]
  },
  {
   "cell_type": "code",
   "execution_count": 25,
   "metadata": {},
   "outputs": [],
   "source": [
    "p_adc_array=list(map(np.concatenate,p_adc['planeSigHG_sel[16][2]']))"
   ]
  },
  {
   "cell_type": "code",
   "execution_count": 26,
   "metadata": {},
   "outputs": [],
   "source": [
    "p_array=np.hstack((p_adc_array,p_lyso['lysoCrystalSig_sel[9]'],np.zeros([len(p_adc_array),1])))"
   ]
  },
  {
   "cell_type": "code",
   "execution_count": 27,
   "metadata": {},
   "outputs": [],
   "source": [
    "p_df=pd.DataFrame(p_array)"
   ]
  },
  {
   "cell_type": "code",
   "execution_count": 28,
   "metadata": {},
   "outputs": [],
   "source": [
    "df=pd.concat([e_df,p_df],axis=0, ignore_index=True)"
   ]
  },
  {
   "cell_type": "code",
   "execution_count": 29,
   "metadata": {},
   "outputs": [],
   "source": [
    "label=df[41]"
   ]
  },
  {
   "cell_type": "code",
   "execution_count": 30,
   "metadata": {},
   "outputs": [],
   "source": [
    "from sklearn.model_selection import train_test_split\n",
    "train_events, test_events, y_train, y_test = train_test_split(df, label, test_size=0.5, random_state=42, shuffle=True)"
   ]
  },
  {
   "cell_type": "code",
   "execution_count": 31,
   "metadata": {},
   "outputs": [],
   "source": [
    "keep=[column for column in df.columns if column!=41]\n",
    "train_events=train_events[keep]\n",
    "test_events=test_events[keep]"
   ]
  },
  {
   "cell_type": "code",
   "execution_count": 32,
   "metadata": {},
   "outputs": [],
   "source": [
    "\n",
    "# Salvare train_events\n",
    "with open('train_events.pkl', 'wb') as f:\n",
    "    pickle.dump(train_events, f)\n",
    "\n",
    "# Salvare y_train\n",
    "with open('y_train.pkl', 'wb') as f:\n",
    "    pickle.dump(y_train, f)\n",
    "\n",
    "# Salvare test_events\n",
    "with open('test_events.pkl', 'wb') as f:\n",
    "    pickle.dump(test_events, f)\n",
    "\n",
    "# Salvare y_test\n",
    "with open('y_test.pkl', 'wb') as f:\n",
    "    pickle.dump(y_test, f)"
   ]
  },
  {
   "cell_type": "code",
   "execution_count": null,
   "metadata": {},
   "outputs": [],
   "source": []
  }
 ],
 "metadata": {
  "kernelspec": {
   "display_name": "Python 3",
   "language": "python",
   "name": "python3"
  },
  "language_info": {
   "codemirror_mode": {
    "name": "ipython",
    "version": 3
   },
   "file_extension": ".py",
   "mimetype": "text/x-python",
   "name": "python",
   "nbconvert_exporter": "python",
   "pygments_lexer": "ipython3",
   "version": "3.8.10"
  }
 },
 "nbformat": 4,
 "nbformat_minor": 2
}
