{
 "cells": [
  {
   "cell_type": "code",
   "execution_count": 2,
   "metadata": {},
   "outputs": [],
   "source": [
    "import numpy as np\n",
    "import uproot as up\n",
    "import pandas as pd\n",
    "from sklearn.model_selection import train_test_split\n",
    "import lightgbm as lgb\n",
    "import pickle\n",
    "import awkward as ak"
   ]
  },
  {
   "cell_type": "code",
   "execution_count": 3,
   "metadata": {},
   "outputs": [],
   "source": [
    "e_file_1=up.open('sample_good_ele_25MeV_160MeV_Strauss.root')\n",
    "e_file_2=up.open('sample_good_ele_25MeV_160MeV_Strauss_20240602.root')\n",
    "\n",
    "\n",
    "p_file_1=up.open('sample_int_p_10MeV_10GeV_HelMod.root')\n",
    "p_file_2=up.open('sample_int_p_10MeV_10GeV_HelMod_20240404.root')\n",
    "p_file_3=up.open('sample_int_p_10MeV_10GeV_HelMod_20240423.root')\n",
    "p_file_4=up.open('sample_int_p_10MeV_10GeV_HelMod_20240506.root')\n",
    "p_file_5=up.open('sample_int_p_10MeV_10GeV_HelMod_20240516.root')\n",
    "p_file_6=up.open('sample_int_p_10MeV_10GeV_HelMod_20240617.root')\n"
   ]
  },
  {
   "cell_type": "code",
   "execution_count": 4,
   "metadata": {},
   "outputs": [],
   "source": [
    "e_tree_1=e_file_1['good_ele_tree;1']\n",
    "e_tree_2=e_file_2['good_ele_tree']\n",
    "\n",
    "p_tree_1=p_file_1['int_proton_tree']\n",
    "p_tree_2=p_file_2['int_proton_tree']\n",
    "p_tree_3=p_file_3['int_proton_tree']\n",
    "p_tree_4=p_file_4['int_proton_tree']\n",
    "p_tree_5=p_file_5['int_proton_tree']\n",
    "p_tree_6=p_file_6['int_proton_tree']"
   ]
  },
  {
   "cell_type": "code",
   "execution_count": 6,
   "metadata": {},
   "outputs": [
    {
     "name": "stdout",
     "output_type": "stream",
     "text": [
      "61243\n",
      "2490994\n"
     ]
    }
   ],
   "source": [
    "print(e_tree_1.num_entries)\n",
    "print(e_tree_2.num_entries)"
   ]
  },
  {
   "cell_type": "code",
   "execution_count": 8,
   "metadata": {},
   "outputs": [
    {
     "name": "stdout",
     "output_type": "stream",
     "text": [
      "46036\n",
      "113293\n",
      "87876\n",
      "121228\n",
      "120585\n",
      "119310\n"
     ]
    }
   ],
   "source": [
    "print(p_tree_1.num_entries)\n",
    "print(p_tree_2.num_entries)\n",
    "print(p_tree_3.num_entries)\n",
    "print(p_tree_4.num_entries)\n",
    "print(p_tree_5.num_entries)\n",
    "print(p_tree_6.num_entries)"
   ]
  },
  {
   "cell_type": "code",
   "execution_count": 86,
   "metadata": {},
   "outputs": [],
   "source": [
    "e_adc_1=e_tree_1.arrays('planeSigHG_sel[16][2]')\n",
    "e_lyso_1=e_tree_1.arrays('lysoCrystalSig_sel[9]')\n",
    "\n",
    "e_adc_2=e_tree_2.arrays('planeSigHG_sel[16][2]')\n",
    "e_lyso_2=e_tree_2.arrays('lysoCrystalSig_sel[9]')"
   ]
  },
  {
   "cell_type": "code",
   "execution_count": 94,
   "metadata": {},
   "outputs": [
    {
     "data": {
      "text/html": [
       "<pre>{&#x27;planeSigHG_sel[16][2]&#x27;: [[185, 284], [293, 323], ..., [...], [-3.83, -2.56]]}\n",
       "-------------------------------------------------------------------------------\n",
       "type: {\n",
       "    &quot;planeSigHG_sel[16][2]&quot;: 16 * 2 * float64\n",
       "}</pre>"
      ],
      "text/plain": [
       "<Record {'planeSigHG_sel[16][2]': [...]} type='{\"planeSigHG_sel[16][2]\": 16...'>"
      ]
     },
     "execution_count": 94,
     "metadata": {},
     "output_type": "execute_result"
    }
   ],
   "source": [
    "e_adc_1[-1]"
   ]
  },
  {
   "cell_type": "code",
   "execution_count": 90,
   "metadata": {},
   "outputs": [],
   "source": [
    "e_adc_array_1=[]\n",
    "e_adc_array_2=[]"
   ]
  },
  {
   "cell_type": "code",
   "execution_count": 91,
   "metadata": {},
   "outputs": [
    {
     "data": {
      "text/plain": [
       "[]"
      ]
     },
     "execution_count": 91,
     "metadata": {},
     "output_type": "execute_result"
    }
   ],
   "source": [
    "e_adc_array_1"
   ]
  },
  {
   "cell_type": "code",
   "execution_count": 92,
   "metadata": {},
   "outputs": [],
   "source": [
    "for ev in e_adc_1['planeSigHG_sel[16][2]']:\n",
    "    e_adc_array_1.append(np.array(ev).flatten())\n",
    "for ev in e_adc_2['planeSigHG_sel[16][2]']:\n",
    "    e_adc_array_2.append(np.array(ev).flatten())"
   ]
  },
  {
   "cell_type": "code",
   "execution_count": 98,
   "metadata": {},
   "outputs": [],
   "source": [
    "e_array_1=np.hstack((e_adc_array_1,e_lyso_1['lysoCrystalSig_sel[9]'],np.ones([len(e_adc_array_1),1])))\n",
    "e_array_2=np.hstack((e_adc_array_2,e_lyso_2['lysoCrystalSig_sel[9]'],np.ones([len(e_adc_array_2),1])))"
   ]
  },
  {
   "cell_type": "code",
   "execution_count": 99,
   "metadata": {},
   "outputs": [],
   "source": [
    "e_df_1=pd.DataFrame(e_array_1)\n",
    "e_df_2=pd.DataFrame(e_array_2)\n",
    "e_df=pd.concat([e_df_1,e_df_2],axis=0,ignore_index=True)"
   ]
  },
  {
   "cell_type": "code",
   "execution_count": 100,
   "metadata": {},
   "outputs": [],
   "source": [
    "p_adc_1=p_tree_1.arrays('planeSigHG_sel[16][2]')\n",
    "p_lyso_1=p_tree_1.arrays('lysoCrystalSig_sel[9]')\n",
    "\n",
    "p_adc_2=p_tree_2.arrays('planeSigHG_sel[16][2]')\n",
    "p_lyso_2=p_tree_2.arrays('lysoCrystalSig_sel[9]')\n",
    "\n",
    "p_adc_3=p_tree_3.arrays('planeSigHG_sel[16][2]')\n",
    "p_lyso_3=p_tree_3.arrays('lysoCrystalSig_sel[9]')\n",
    "\n",
    "p_adc_4=p_tree_4.arrays('planeSigHG_sel[16][2]')\n",
    "p_lyso_4=p_tree_4.arrays('lysoCrystalSig_sel[9]')\n",
    "\n",
    "p_adc_5=p_tree_5.arrays('planeSigHG_sel[16][2]')\n",
    "p_lyso_5=p_tree_5.arrays('lysoCrystalSig_sel[9]')\n",
    "\n",
    "p_adc_6=p_tree_6.arrays('planeSigHG_sel[16][2]')\n",
    "p_lyso_6=p_tree_6.arrays('lysoCrystalSig_sel[9]')"
   ]
  },
  {
   "cell_type": "code",
   "execution_count": 103,
   "metadata": {},
   "outputs": [],
   "source": [
    "p_adc_array_1=[]\n",
    "p_adc_array_2=[]\n",
    "p_adc_array_3=[]\n",
    "p_adc_array_4=[]\n",
    "p_adc_array_5=[]\n",
    "p_adc_array_6=[]"
   ]
  },
  {
   "cell_type": "code",
   "execution_count": 104,
   "metadata": {},
   "outputs": [],
   "source": [
    "for ev in p_adc_1['planeSigHG_sel[16][2]']:\n",
    "    p_adc_array_1.append(np.array(ev).flatten())\n",
    "for ev in p_adc_2['planeSigHG_sel[16][2]']:\n",
    "    p_adc_array_2.append(np.array(ev).flatten())\n",
    "for ev in p_adc_3['planeSigHG_sel[16][2]']:\n",
    "    p_adc_array_3.append(np.array(ev).flatten())\n",
    "for ev in p_adc_4['planeSigHG_sel[16][2]']:\n",
    "    p_adc_array_4.append(np.array(ev).flatten())\n",
    "for ev in p_adc_5['planeSigHG_sel[16][2]']:\n",
    "    p_adc_array_5.append(np.array(ev).flatten())\n",
    "for ev in p_adc_6['planeSigHG_sel[16][2]']:\n",
    "    p_adc_array_6.append(np.array(ev).flatten())"
   ]
  },
  {
   "cell_type": "code",
   "execution_count": 105,
   "metadata": {},
   "outputs": [],
   "source": [
    "p_array_1=np.hstack((p_adc_array_1,p_lyso_1['lysoCrystalSig_sel[9]'],np.zeros([len(p_adc_array_1),1])))\n",
    "p_array_2=np.hstack((p_adc_array_2,p_lyso_2['lysoCrystalSig_sel[9]'],np.zeros([len(p_adc_array_2),1])))\n",
    "p_array_3=np.hstack((p_adc_array_3,p_lyso_3['lysoCrystalSig_sel[9]'],np.zeros([len(p_adc_array_3),1])))\n",
    "p_array_4=np.hstack((p_adc_array_4,p_lyso_4['lysoCrystalSig_sel[9]'],np.zeros([len(p_adc_array_4),1])))\n",
    "p_array_5=np.hstack((p_adc_array_5,p_lyso_5['lysoCrystalSig_sel[9]'],np.zeros([len(p_adc_array_5),1])))\n",
    "p_array_6=np.hstack((p_adc_array_6,p_lyso_6['lysoCrystalSig_sel[9]'],np.zeros([len(p_adc_array_6),1])))        "
   ]
  },
  {
   "cell_type": "code",
   "execution_count": 108,
   "metadata": {},
   "outputs": [],
   "source": [
    "p_df_1=pd.DataFrame(p_array_1)\n",
    "p_df_2=pd.DataFrame(p_array_2)\n",
    "p_df_3=pd.DataFrame(p_array_3)\n",
    "p_df_4=pd.DataFrame(p_array_4)\n",
    "p_df_5=pd.DataFrame(p_array_5)\n",
    "p_df_6=pd.DataFrame(p_array_6)\n",
    "p_df=pd.concat([p_df_1,p_df_2,p_df_3,p_df_4,p_df_5,p_df_6],axis=0, ignore_index=True)"
   ]
  },
  {
   "cell_type": "code",
   "execution_count": 110,
   "metadata": {},
   "outputs": [],
   "source": [
    "df=pd.concat([e_df,p_df],axis=0, ignore_index=True)"
   ]
  },
  {
   "cell_type": "code",
   "execution_count": 111,
   "metadata": {},
   "outputs": [],
   "source": [
    "label=df[41]"
   ]
  },
  {
   "cell_type": "code",
   "execution_count": 112,
   "metadata": {},
   "outputs": [],
   "source": [
    "from sklearn.model_selection import train_test_split\n",
    "train_events, test_events, y_train, y_test = train_test_split(df, label, test_size=0.5, random_state=42, shuffle=True)"
   ]
  },
  {
   "cell_type": "code",
   "execution_count": 113,
   "metadata": {},
   "outputs": [],
   "source": [
    "keep=[column for column in df.columns if column!=41]\n",
    "train_events=train_events[keep]\n",
    "test_events=test_events[keep]"
   ]
  },
  {
   "cell_type": "code",
   "execution_count": 115,
   "metadata": {},
   "outputs": [],
   "source": [
    "# Salvare train_events\n",
    "with open('train_events.pkl', 'wb') as f:\n",
    "    pickle.dump(train_events, f)\n",
    "\n",
    "# Salvare y_train\n",
    "with open('y_train.pkl', 'wb') as f:\n",
    "    pickle.dump(y_train, f)\n",
    "\n",
    "# Salvare test_events\n",
    "with open('test_events.pkl', 'wb') as f:\n",
    "    pickle.dump(test_events, f)\n",
    "\n",
    "# Salvare y_test\n",
    "with open('y_test.pkl', 'wb') as f:\n",
    "    pickle.dump(y_test, f)"
   ]
  },
  {
   "cell_type": "code",
   "execution_count": null,
   "metadata": {},
   "outputs": [],
   "source": []
  }
 ],
 "metadata": {
  "kernelspec": {
   "display_name": "Python 3",
   "language": "python",
   "name": "python3"
  },
  "language_info": {
   "codemirror_mode": {
    "name": "ipython",
    "version": 3
   },
   "file_extension": ".py",
   "mimetype": "text/x-python",
   "name": "python",
   "nbconvert_exporter": "python",
   "pygments_lexer": "ipython3",
   "version": "3.8.10"
  }
 },
 "nbformat": 4,
 "nbformat_minor": 2
}
