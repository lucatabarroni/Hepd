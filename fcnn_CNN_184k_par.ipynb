{
 "cells": [
  {
   "cell_type": "code",
   "execution_count": null,
   "id": "4c83a69f-d026-4526-8ad1-e0b65299a5db",
   "metadata": {},
   "outputs": [],
   "source": [
    "x=Dense(16,activation='relu')(input_layer)\n",
    "x=fully_connected_block(x,hidden_layers=3,neurons=32,input_dimension=16,skip_connection=False)\n",
    "x=fully_connected_block(x,hidden_layers=3,neurons=32,input_dimension=32,skip_connection=False)\n",
    "x=fully_connected_block(x,hidden_layers=3,neurons=64,input_dimension=32,skip_connection=False)\n",
    "x=fully_connected_block(x,hidden_layers=3,neurons=64,input_dimension=64,skip_connection=False)\n",
    "x=fully_connected_block(x,hidden_layers=3,neurons=128,input_dimension=64,skip_connection=False)\n",
    "x=fully_connected_block(x,hidden_layers=3,neurons=128,input_dimension=128,skip_connection=False)\n",
    "x=Reshape((128,1))(x)\n",
    "x=convolutional_block(x,hidden_layers=3,kernel=32,size=2,input_dimension=128,strides=1,skip_connection=False)\n",
    "x=convolutional_block(x,hidden_layers=3,kernel=32,size=2,input_dimension=32,strides=1,skip_connection=False)\n",
    "x=convolutional_block(x,hidden_layers=3,kernel=64,size=2,input_dimension=32,strides=1,skip_connection=False)\n",
    "x=convolutional_block(x,hidden_layers=3,kernel=64,size=2,input_dimension=64,strides=1,skip_connection=False)\n",
    "x=Flatten()(x)"
   ]
  }
 ],
 "metadata": {
  "kernelspec": {
   "display_name": "Python 3 (ipykernel)",
   "language": "python",
   "name": "python3"
  },
  "language_info": {
   "codemirror_mode": {
    "name": "ipython",
    "version": 3
   },
   "file_extension": ".py",
   "mimetype": "text/x-python",
   "name": "python",
   "nbconvert_exporter": "python",
   "pygments_lexer": "ipython3",
   "version": "3.11.6"
  }
 },
 "nbformat": 4,
 "nbformat_minor": 5
}
