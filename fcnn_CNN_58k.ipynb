{
 "cells": [
  {
   "cell_type": "code",
   "execution_count": null,
   "id": "803860a5-19e7-4259-b23f-88f269db8b4d",
   "metadata": {},
   "outputs": [],
   "source": [
    "x=Dense(16,activation='relu')(input_layer)\n",
    "x=fully_connected_block(x,hidden_layers=3,neurons=32,input_dimension=16)\n",
    "x=fully_connected_block(x,hidden_layers=3,neurons=32,input_dimension=32)\n",
    "x=fully_connected_block(x,hidden_layers=3,neurons=64,input_dimension=32)\n",
    "x=fully_connected_block(x,hidden_layers=3,neurons=64,input_dimension=64)\n",
    "x=Reshape((64,1))(x)\n",
    "x=convolutional_block(x,hidden_layers=3,kernel=32,size=2,input_dimension=64,strides=1)\n",
    "x=convolutional_block(x,hidden_layers=3,kernel=64,size=2,input_dimension=32,strides=1)\n",
    "x=Flatten()(x)"
   ]
  }
 ],
 "metadata": {
  "kernelspec": {
   "display_name": "HERD",
   "language": "python",
   "name": "hep2"
  },
  "language_info": {
   "codemirror_mode": {
    "name": "ipython",
    "version": 3
   },
   "file_extension": ".py",
   "mimetype": "text/x-python",
   "name": "python",
   "nbconvert_exporter": "python",
   "pygments_lexer": "ipython3",
   "version": "3.9.15"
  }
 },
 "nbformat": 4,
 "nbformat_minor": 5
}
