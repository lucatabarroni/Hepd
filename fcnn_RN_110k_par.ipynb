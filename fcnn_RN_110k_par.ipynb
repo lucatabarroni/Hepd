{
 "cells": [
  {
   "cell_type": "code",
   "execution_count": null,
   "id": "ce2c293a-6637-431d-a591-e0eab378e0ae",
   "metadata": {},
   "outputs": [],
   "source": [
    "x=fully_connected_block(x,hidden_layers=3,neurons=32,input_dimension=16,skip_connection=True)\n",
    "x=fully_connected_block(x,hidden_layers=3,neurons=32,input_dimension=32,skip_connection=True)\n",
    "x=fully_connected_block(x,hidden_layers=3,neurons=32,input_dimension=32,skip_connection=True)\n",
    "x=fully_connected_block(x,hidden_layers=3,neurons=64,input_dimension=32,skip_connection=True)\n",
    "x=fully_connected_block(x,hidden_layers=3,neurons=64,input_dimension=64,skip_connection=True)\n",
    "x=fully_connected_block(x,hidden_layers=3,neurons=64,input_dimension=64,skip_connection=True)\n",
    "x=fully_connected_block(x,hidden_layers=3,neurons=64,input_dimension=64,skip_connection=True)\n",
    "x=fully_connected_block(x,hidden_layers=3,neurons=128,input_dimension=64,skip_connection=True)"
   ]
  }
 ],
 "metadata": {
  "kernelspec": {
   "display_name": "Python 3 (ipykernel)",
   "language": "python",
   "name": "python3"
  },
  "language_info": {
   "codemirror_mode": {
    "name": "ipython",
    "version": 3
   },
   "file_extension": ".py",
   "mimetype": "text/x-python",
   "name": "python",
   "nbconvert_exporter": "python",
   "pygments_lexer": "ipython3",
   "version": "3.11.6"
  }
 },
 "nbformat": 4,
 "nbformat_minor": 5
}
