{
 "cells": [
  {
   "cell_type": "code",
   "execution_count": null,
   "id": "65834e45-de50-4461-8eb9-63348842a0e1",
   "metadata": {},
   "outputs": [],
   "source": [
    "x=fully_connected_block(x,hidden_layers=3,neurons=32,input_dimension=16,skip_connection=True)\n",
    "x=fully_connected_block(x,hidden_layers=3,neurons=32,input_dimension=32,skip_connection=True)\n",
    "x=fully_connected_block(x,hidden_layers=3,neurons=32,input_dimension=32,skip_connection=True)\n",
    "x=fully_connected_block(x,hidden_layers=3,neurons=32,input_dimension=32,skip_connection=True)\n",
    "x=fully_connected_block(x,hidden_layers=3,neurons=32,input_dimension=32,skip_connection=True)\n",
    "x=fully_connected_block(x,hidden_layers=3,neurons=64,input_dimension=32,skip_connection=True)\n",
    "x=fully_connected_block(x,hidden_layers=3,neurons=64,input_dimension=64,skip_connection=True)\n",
    "x=fully_connected_block(x,hidden_layers=3,neurons=64,input_dimension=64,skip_connection=True)"
   ]
  }
 ],
 "metadata": {
  "kernelspec": {
   "display_name": "Python 3 (ipykernel)",
   "language": "python",
   "name": "python3"
  },
  "language_info": {
   "codemirror_mode": {
    "name": "ipython",
    "version": 3
   },
   "file_extension": ".py",
   "mimetype": "text/x-python",
   "name": "python",
   "nbconvert_exporter": "python",
   "pygments_lexer": "ipython3",
   "version": "3.11.6"
  }
 },
 "nbformat": 4,
 "nbformat_minor": 5
}
